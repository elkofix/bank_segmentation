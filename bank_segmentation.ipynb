{
 "cells": [
  {
   "cell_type": "markdown",
   "id": "5b9890c0",
   "metadata": {},
   "source": [
    "## Bank segmentation"
   ]
  }
 ],
 "metadata": {
  "language_info": {
   "name": "python"
  }
 },
 "nbformat": 4,
 "nbformat_minor": 5
}
